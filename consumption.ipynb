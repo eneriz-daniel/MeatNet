{
 "cells": [
  {
   "cell_type": "code",
   "execution_count": 1,
   "source": [
    "%matplotlib inline"
   ],
   "outputs": [],
   "metadata": {}
  },
  {
   "cell_type": "markdown",
   "source": [
    "# MeatNet: World meat consumption\n",
    "\n",
    "In this notebook we want to obtain the plot of evolution of the meat consumption in the world. We are using the data from the FAO (Food and Agriculture Organization of th United Nations), available in their web page [FAOSTAT](http://www.fao.org/faostat/)"
   ],
   "metadata": {}
  },
  {
   "cell_type": "code",
   "execution_count": 2,
   "source": [
    "import pandas as pd\n",
    "import matplotlib.pyplot as plt\n",
    "import numpy as np\n",
    "import gdown"
   ],
   "outputs": [],
   "metadata": {}
  },
  {
   "cell_type": "code",
   "execution_count": 3,
   "source": [
    "gdown.download('https://drive.google.com/uc?id=1PUl07-a-scy7iuo6VTTNWwYaxI8o4N0H')"
   ],
   "outputs": [
    {
     "output_type": "stream",
     "name": "stderr",
     "text": [
      "Downloading...\n",
      "From: https://drive.google.com/uc?id=1PUl07-a-scy7iuo6VTTNWwYaxI8o4N0H\n",
      "To: /home/daniel/Carnes/MeatNet/MeatConsumptionFAOSTAT.xlsx\n",
      "100%|██████████| 30.5k/30.5k [00:00<00:00, 3.54MB/s]\n"
     ]
    },
    {
     "output_type": "execute_result",
     "data": {
      "text/plain": [
       "'MeatConsumptionFAOSTAT.xlsx'"
      ]
     },
     "metadata": {},
     "execution_count": 3
    }
   ],
   "metadata": {}
  },
  {
   "cell_type": "code",
   "execution_count": 4,
   "source": [
    "df = pd.read_excel('MeatConsumptionFAOSTAT.xlsx')"
   ],
   "outputs": [],
   "metadata": {}
  },
  {
   "cell_type": "code",
   "execution_count": 5,
   "source": [
    "df"
   ],
   "outputs": [
    {
     "output_type": "execute_result",
     "data": {
      "text/html": [
       "<div>\n",
       "<style scoped>\n",
       "    .dataframe tbody tr th:only-of-type {\n",
       "        vertical-align: middle;\n",
       "    }\n",
       "\n",
       "    .dataframe tbody tr th {\n",
       "        vertical-align: top;\n",
       "    }\n",
       "\n",
       "    .dataframe thead th {\n",
       "        text-align: right;\n",
       "    }\n",
       "</style>\n",
       "<table border=\"1\" class=\"dataframe\">\n",
       "  <thead>\n",
       "    <tr style=\"text-align: right;\">\n",
       "      <th></th>\n",
       "      <th>Domain</th>\n",
       "      <th>Country</th>\n",
       "      <th>Element</th>\n",
       "      <th>Item</th>\n",
       "      <th>Year</th>\n",
       "      <th>Unit</th>\n",
       "      <th>Value</th>\n",
       "    </tr>\n",
       "  </thead>\n",
       "  <tbody>\n",
       "    <tr>\n",
       "      <th>0</th>\n",
       "      <td>Food Supply - Livestock and Fish Primary Equiv...</td>\n",
       "      <td>World</td>\n",
       "      <td>Food supply quantity (tonnes)</td>\n",
       "      <td>Meat</td>\n",
       "      <td>1961</td>\n",
       "      <td>tonnes</td>\n",
       "      <td>70342253.38</td>\n",
       "    </tr>\n",
       "    <tr>\n",
       "      <th>1</th>\n",
       "      <td>Food Supply - Livestock and Fish Primary Equiv...</td>\n",
       "      <td>World</td>\n",
       "      <td>Food supply quantity (tonnes)</td>\n",
       "      <td>Meat</td>\n",
       "      <td>1962</td>\n",
       "      <td>tonnes</td>\n",
       "      <td>73665896.39</td>\n",
       "    </tr>\n",
       "    <tr>\n",
       "      <th>2</th>\n",
       "      <td>Food Supply - Livestock and Fish Primary Equiv...</td>\n",
       "      <td>World</td>\n",
       "      <td>Food supply quantity (tonnes)</td>\n",
       "      <td>Meat</td>\n",
       "      <td>1963</td>\n",
       "      <td>tonnes</td>\n",
       "      <td>77587573.64</td>\n",
       "    </tr>\n",
       "    <tr>\n",
       "      <th>3</th>\n",
       "      <td>Food Supply - Livestock and Fish Primary Equiv...</td>\n",
       "      <td>World</td>\n",
       "      <td>Food supply quantity (tonnes)</td>\n",
       "      <td>Meat</td>\n",
       "      <td>1964</td>\n",
       "      <td>tonnes</td>\n",
       "      <td>79130730.29</td>\n",
       "    </tr>\n",
       "    <tr>\n",
       "      <th>4</th>\n",
       "      <td>Food Supply - Livestock and Fish Primary Equiv...</td>\n",
       "      <td>World</td>\n",
       "      <td>Food supply quantity (tonnes)</td>\n",
       "      <td>Meat</td>\n",
       "      <td>1965</td>\n",
       "      <td>tonnes</td>\n",
       "      <td>83043471.42</td>\n",
       "    </tr>\n",
       "    <tr>\n",
       "      <th>...</th>\n",
       "      <td>...</td>\n",
       "      <td>...</td>\n",
       "      <td>...</td>\n",
       "      <td>...</td>\n",
       "      <td>...</td>\n",
       "      <td>...</td>\n",
       "      <td>...</td>\n",
       "    </tr>\n",
       "    <tr>\n",
       "      <th>525</th>\n",
       "      <td>Food Supply - Livestock and Fish Primary Equiv...</td>\n",
       "      <td>Oceania</td>\n",
       "      <td>Food supply quantity (tonnes)</td>\n",
       "      <td>Meat</td>\n",
       "      <td>2009</td>\n",
       "      <td>tonnes</td>\n",
       "      <td>3037768.18</td>\n",
       "    </tr>\n",
       "    <tr>\n",
       "      <th>526</th>\n",
       "      <td>Food Supply - Livestock and Fish Primary Equiv...</td>\n",
       "      <td>Oceania</td>\n",
       "      <td>Food supply quantity (tonnes)</td>\n",
       "      <td>Meat</td>\n",
       "      <td>2010</td>\n",
       "      <td>tonnes</td>\n",
       "      <td>3042565.72</td>\n",
       "    </tr>\n",
       "    <tr>\n",
       "      <th>527</th>\n",
       "      <td>Food Supply - Livestock and Fish Primary Equiv...</td>\n",
       "      <td>Oceania</td>\n",
       "      <td>Food supply quantity (tonnes)</td>\n",
       "      <td>Meat</td>\n",
       "      <td>2011</td>\n",
       "      <td>tonnes</td>\n",
       "      <td>3435886.98</td>\n",
       "    </tr>\n",
       "    <tr>\n",
       "      <th>528</th>\n",
       "      <td>Food Supply - Livestock and Fish Primary Equiv...</td>\n",
       "      <td>Oceania</td>\n",
       "      <td>Food supply quantity (tonnes)</td>\n",
       "      <td>Meat</td>\n",
       "      <td>2012</td>\n",
       "      <td>tonnes</td>\n",
       "      <td>3288079.86</td>\n",
       "    </tr>\n",
       "    <tr>\n",
       "      <th>529</th>\n",
       "      <td>Food Supply - Livestock and Fish Primary Equiv...</td>\n",
       "      <td>Oceania</td>\n",
       "      <td>Food supply quantity (tonnes)</td>\n",
       "      <td>Meat</td>\n",
       "      <td>2013</td>\n",
       "      <td>tonnes</td>\n",
       "      <td>3294866.19</td>\n",
       "    </tr>\n",
       "  </tbody>\n",
       "</table>\n",
       "<p>530 rows × 7 columns</p>\n",
       "</div>"
      ],
      "text/plain": [
       "                                                Domain  Country  \\\n",
       "0    Food Supply - Livestock and Fish Primary Equiv...    World   \n",
       "1    Food Supply - Livestock and Fish Primary Equiv...    World   \n",
       "2    Food Supply - Livestock and Fish Primary Equiv...    World   \n",
       "3    Food Supply - Livestock and Fish Primary Equiv...    World   \n",
       "4    Food Supply - Livestock and Fish Primary Equiv...    World   \n",
       "..                                                 ...      ...   \n",
       "525  Food Supply - Livestock and Fish Primary Equiv...  Oceania   \n",
       "526  Food Supply - Livestock and Fish Primary Equiv...  Oceania   \n",
       "527  Food Supply - Livestock and Fish Primary Equiv...  Oceania   \n",
       "528  Food Supply - Livestock and Fish Primary Equiv...  Oceania   \n",
       "529  Food Supply - Livestock and Fish Primary Equiv...  Oceania   \n",
       "\n",
       "                           Element  Item  Year    Unit        Value  \n",
       "0    Food supply quantity (tonnes)  Meat  1961  tonnes  70342253.38  \n",
       "1    Food supply quantity (tonnes)  Meat  1962  tonnes  73665896.39  \n",
       "2    Food supply quantity (tonnes)  Meat  1963  tonnes  77587573.64  \n",
       "3    Food supply quantity (tonnes)  Meat  1964  tonnes  79130730.29  \n",
       "4    Food supply quantity (tonnes)  Meat  1965  tonnes  83043471.42  \n",
       "..                             ...   ...   ...     ...          ...  \n",
       "525  Food supply quantity (tonnes)  Meat  2009  tonnes   3037768.18  \n",
       "526  Food supply quantity (tonnes)  Meat  2010  tonnes   3042565.72  \n",
       "527  Food supply quantity (tonnes)  Meat  2011  tonnes   3435886.98  \n",
       "528  Food supply quantity (tonnes)  Meat  2012  tonnes   3288079.86  \n",
       "529  Food supply quantity (tonnes)  Meat  2013  tonnes   3294866.19  \n",
       "\n",
       "[530 rows x 7 columns]"
      ]
     },
     "metadata": {},
     "execution_count": 5
    }
   ],
   "metadata": {}
  },
  {
   "cell_type": "code",
   "execution_count": 6,
   "source": [
    "years = np.array(df[df.Country=='World'].Year)"
   ],
   "outputs": [],
   "metadata": {}
  },
  {
   "cell_type": "code",
   "execution_count": 7,
   "source": [
    "regions = ['World', 'Europe', 'Americas', 'Asia', 'Africa', 'Oceania']"
   ],
   "outputs": [],
   "metadata": {}
  },
  {
   "cell_type": "code",
   "execution_count": 8,
   "source": [
    "region_data = np.empty((len(regions), years.shape[0]))\n",
    "for i, region in enumerate(regions):\n",
    "    region_data[i, :] = np.array(df[df.Country==region].Value)"
   ],
   "outputs": [],
   "metadata": {}
  },
  {
   "cell_type": "code",
   "execution_count": 9,
   "source": [
    "for i, region in enumerate(regions):\n",
    "    plt.semilogy(years, region_data[i,:], label=region)\n",
    "    \n",
    "plt.legend(loc='center', ncol=1, bbox_to_anchor=(1.2,0.5))\n",
    "plt.ylabel('Meat consumption (tons)')\n",
    "plt.xlabel('Time (years)')\n",
    "\n",
    "plt.tight_layout()\n",
    "\n",
    "plt.savefig('meat-consumption.png', dpi=600)"
   ],
   "outputs": [
    {
     "output_type": "display_data",
     "data": {
      "image/png": "[encoded data removed]",
      "text/plain": [
       "<Figure size 640x480 with 1 Axes>"
      ]
     },
     "metadata": {}
    }
   ],
   "metadata": {}
  },
  {
   "cell_type": "code",
   "execution_count": null,
   "source": [],
   "outputs": [],
   "metadata": {}
  }
 ],
 "metadata": {
  "kernelspec": {
   "name": "python3",
   "display_name": "Python 3.9.2 64-bit ('torch': conda)"
  },
  "language_info": {
   "codemirror_mode": {
    "name": "ipython",
    "version": 3
   },
   "file_extension": ".py",
   "mimetype": "text/x-python",
   "name": "python",
   "nbconvert_exporter": "python",
   "pygments_lexer": "ipython3",
   "version": "3.9.2"
  },
  "widgets": {
   "application/vnd.jupyter.widget-state+json": {
    "state": {},
    "version_major": 2,
    "version_minor": 0
   }
  },
  "interpreter": {
   "hash": "fd3e79318b8ad4805964e136c2ac29b0aaa4a5d92d66c4216ec93e404f09d88c"
  }
 },
 "nbformat": 4,
 "nbformat_minor": 5
}